{
 "cells": [
  {
   "cell_type": "code",
   "execution_count": 1,
   "metadata": {},
   "outputs": [],
   "source": [
    "import pandas as pd"
   ]
  },
  {
   "cell_type": "code",
   "execution_count": 75,
   "metadata": {},
   "outputs": [],
   "source": [
    "subject = \"Sandeep\"\n",
    "minus_title = \"minus\" + subject\n",
    "test_title = \"test\" + subject\n",
    "\n",
    "df = pd.read_parquet(\"/home/ss26/Projects/Smart-Tools/data/F2021_\" + minus_title + \"_Cleaned.parquet\")\n",
    "test_df = pd.read_parquet(\"/home/ss26/Projects/Smart-Tools/data/F2021_\" + test_title + \"_Cleaned.parquet\")"
   ]
  },
  {
   "cell_type": "code",
   "execution_count": 47,
   "metadata": {},
   "outputs": [],
   "source": [
    "df0 = df[df['Activity'] == 0]\n",
    "df1 = df[df['Activity'] == 1]\n",
    "df2 = df[df['Activity'] == 2]\n",
    "df3 = df[df['Activity'] == 3]\n",
    "\n",
    "test_df0 = test_df[test_df['Activity'] == 0]\n",
    "test_df1 = test_df[test_df['Activity'] == 1]\n",
    "test_df2 = test_df[test_df['Activity'] == 2]\n",
    "test_df3 = test_df[test_df['Activity'] == 3]\n"
   ]
  },
  {
   "cell_type": "code",
   "execution_count": 48,
   "metadata": {},
   "outputs": [],
   "source": [
    "df0.to_parquet('/home/ss26/Projects/Smart-Tools/data/' + minus_title + '_0.parquet')\n",
    "df1.to_parquet('/home/ss26/Projects/Smart-Tools/data/' + minus_title + '_1.parquet')\n",
    "df2.to_parquet('/home/ss26/Projects/Smart-Tools/data/' + minus_title + '_2.parquet')\n",
    "df3.to_parquet('/home/ss26/Projects/Smart-Tools/data/' + minus_title + '_3.parquet')\n",
    "\n",
    "test_df0.to_parquet('/home/ss26/Projects/Smart-Tools/data/' + test_title + '_0.parquet')\n",
    "test_df1.to_parquet('/home/ss26/Projects/Smart-Tools/data/' + test_title + '_1.parquet')\n",
    "test_df2.to_parquet('/home/ss26/Projects/Smart-Tools/data/' + test_title + '_2.parquet')\n",
    "test_df3.to_parquet('/home/ss26/Projects/Smart-Tools/data/' + test_title + '_3.parquet')"
   ]
  },
  {
   "cell_type": "code",
   "execution_count": 76,
   "metadata": {},
   "outputs": [],
   "source": [
    "df_proc0 = pd.read_parquet('/home/ss26/Projects/Smart-Tools/data/F2021_processed_' + minus_title + '_0.parquet')\n",
    "df_proc1 = pd.read_parquet('/home/ss26/Projects/Smart-Tools/data/F2021_processed_' + minus_title + '_1.parquet')\n",
    "df_proc2 = pd.read_parquet('/home/ss26/Projects/Smart-Tools/data/F2021_processed_' + minus_title + '_2.parquet')\n",
    "df_proc3 = pd.read_parquet('/home/ss26/Projects/Smart-Tools/data/F2021_processed_' + minus_title + '_3.parquet')\n",
    "\n",
    "test_df_proc0 = pd.read_parquet('/home/ss26/Projects/Smart-Tools/data/F2021_processed_' + test_title + '_0.parquet')\n",
    "test_df_proc1 = pd.read_parquet('/home/ss26/Projects/Smart-Tools/data/F2021_processed_' + test_title + '_1.parquet')\n",
    "test_df_proc2 = pd.read_parquet('/home/ss26/Projects/Smart-Tools/data/F2021_processed_' + test_title + '_2.parquet')\n",
    "test_df_proc3 = pd.read_parquet('/home/ss26/Projects/Smart-Tools/data/F2021_processed_' + test_title + '_3.parquet')"
   ]
  },
  {
   "cell_type": "code",
   "execution_count": 77,
   "metadata": {},
   "outputs": [],
   "source": [
    "df_proc = pd.concat([df_proc0, df_proc1, df_proc2, df_proc3], ignore_index=True)\n",
    "\n",
    "test_df_proc = pd.concat([test_df_proc0, test_df_proc1, test_df_proc2, test_df_proc3], ignore_index=True)\n"
   ]
  },
  {
   "cell_type": "code",
   "execution_count": 78,
   "metadata": {},
   "outputs": [],
   "source": [
    "train_num = lambda x: int(x*0.33)\n",
    "val_num = lambda x: int(x*0.66)"
   ]
  },
  {
   "cell_type": "code",
   "execution_count": 79,
   "metadata": {},
   "outputs": [],
   "source": [
    "train_df = pd.concat([\n",
    "    df_proc0.iloc[:train_num(df_proc0.shape[0]),:], \n",
    "    df_proc1.iloc[:train_num(df_proc1.shape[0]),:], \n",
    "    df_proc2.iloc[:train_num(df_proc2.shape[0]),:], \n",
    "    df_proc3.iloc[:train_num(df_proc3.shape[0]),:], \n",
    "], ignore_index=True)\n",
    "\n",
    "val_df = pd.concat([\n",
    "    df_proc0.iloc[train_num(df_proc0.shape[0]):val_num(df_proc0.shape[0]),:], \n",
    "    df_proc1.iloc[:train_num(df_proc1.shape[0]):val_num(df_proc1.shape[0]),:], \n",
    "    df_proc2.iloc[:train_num(df_proc2.shape[0]):val_num(df_proc2.shape[0]),:], \n",
    "    df_proc3.iloc[:train_num(df_proc3.shape[0]):val_num(df_proc3.shape[0]),:], \n",
    "], ignore_index=True)\n",
    "\n",
    "test_df = pd.concat([\n",
    "    test_df_proc0.iloc[:,:], \n",
    "    test_df_proc1.iloc[:,:], \n",
    "    test_df_proc2.iloc[:,:], \n",
    "    test_df_proc3.iloc[:,:], \n",
    "], ignore_index=True)"
   ]
  },
  {
   "cell_type": "code",
   "execution_count": 80,
   "metadata": {},
   "outputs": [],
   "source": [
    "train_df.to_csv('/home/ss26/Projects/Smart-Tools/data/Human_' + subject + '_Train_Xy_Matrix.csv')\n",
    "val_df.to_csv('/home/ss26/Projects/Smart-Tools/data/Human_' + subject + '_Validate_Xy_Matrix.csv')\n",
    "test_df.to_csv('/home/ss26/Projects/Smart-Tools/data/Human_' + subject + '_Test_Xy_Matrix.csv')"
   ]
  }
 ],
 "metadata": {
  "kernelspec": {
   "display_name": "Python 3",
   "language": "python",
   "name": "python3"
  },
  "language_info": {
   "codemirror_mode": {
    "name": "ipython",
    "version": 3
   },
   "file_extension": ".py",
   "mimetype": "text/x-python",
   "name": "python",
   "nbconvert_exporter": "python",
   "pygments_lexer": "ipython3",
   "version": "3.8.10"
  },
  "orig_nbformat": 4
 },
 "nbformat": 4,
 "nbformat_minor": 2
}
