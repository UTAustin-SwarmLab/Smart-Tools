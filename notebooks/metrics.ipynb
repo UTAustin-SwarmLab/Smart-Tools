{
 "cells": [
  {
   "cell_type": "code",
   "execution_count": 33,
   "metadata": {},
   "outputs": [],
   "source": [
    "from statistics import stdev, mean\n",
    "import pandas as pd\n",
    "import os"
   ]
  },
  {
   "cell_type": "code",
   "execution_count": 28,
   "metadata": {},
   "outputs": [],
   "source": [
    "ood_test_accuracies_zero_shot = {\n",
    "    '0': [],\n",
    "    '1': [],\n",
    "    '2': [],\n",
    "    '3': [],\n",
    "    '4': [],\n",
    "    '5': [],\n",
    "    '6': [],\n",
    "}\n",
    "\n",
    "ood_log_losses_zero_shot = {\n",
    "    '0': [],\n",
    "    '1': [],\n",
    "    '2': [],\n",
    "    '3': [],\n",
    "    '4': [],\n",
    "    '5': [],\n",
    "    '6': [],\n",
    "}\n",
    "\n",
    "ood_test_accuracies_pre_trained = {\n",
    "    '0': [],\n",
    "    '1': [],\n",
    "    '2': [],\n",
    "    '3': [],\n",
    "    '4': [],\n",
    "    '5': [],\n",
    "    '6': [],\n",
    "}\n",
    "\n",
    "ood_log_losses_pre_trained = {\n",
    "    '0': [],\n",
    "    '1': [],\n",
    "    '2': [],\n",
    "    '3': [],\n",
    "    '4': [],\n",
    "    '5': [],\n",
    "    '6': [],\n",
    "}\n"
   ]
  },
  {
   "cell_type": "code",
   "execution_count": 29,
   "metadata": {},
   "outputs": [],
   "source": [
    "root = '/home/ss26/Projects/Smart-Tools/progress/apr5/ood_performance'\n",
    "for file in os.listdir(root):\n",
    "    csv = pd.read_csv(root + '/' + file)\n",
    "    acc = csv['accuracy'].iloc[-1]\n",
    "    ll = csv['logloss'].iloc[-1]\n",
    "\n",
    "    if \"no pretraining\" in file:\n",
    "        ood_test_accuracies_zero_shot[file[9]] += [acc]\n",
    "        ood_log_losses_zero_shot[file[9]] += [ll]\n",
    "    \n",
    "    if \"Yaskawa pretraining\" in file:\n",
    "        ood_test_accuracies_pre_trained[file[9]] += [acc]\n",
    "        ood_log_losses_pre_trained[file[9]] += [ll]\n",
    "\n"
   ]
  },
  {
   "cell_type": "code",
   "execution_count": 46,
   "metadata": {},
   "outputs": [
    {
     "name": "stdout",
     "output_type": "stream",
     "text": [
      "Out-of-Distribution\n",
      "ZERO-SHOT TRAINING\n",
      "0 Test Accuracy: 74.60 $\\pm$ 3.451\n",
      "1 Test Accuracy: 59.01 $\\pm$ 3.347\n",
      "2 Test Accuracy: 80.40 $\\pm$ 0.675\n",
      "3 Test Accuracy: 75.53 $\\pm$ 1.259\n",
      "4 Test Accuracy: 91.07 $\\pm$ 3.041\n",
      "5 Test Accuracy: 66.32 $\\pm$ 1.776\n",
      "6 Test Accuracy: 74.02 $\\pm$ 1.438\n",
      "0 Log-Loss: 0.701 $\\pm$ 0.016\n",
      "1 Log-Loss: 0.926 $\\pm$ 0.027\n",
      "2 Log-Loss: 0.592 $\\pm$ 0.010\n",
      "3 Log-Loss: 0.777 $\\pm$ 0.049\n",
      "4 Log-Loss: 0.586 $\\pm$ 0.034\n",
      "5 Log-Loss: 0.563 $\\pm$ 0.028\n",
      "6 Log-Loss: 0.922 $\\pm$ 0.046\n"
     ]
    }
   ],
   "source": [
    "print(\"Out-of-Distribution\")\n",
    "print(\"ZERO-SHOT TRAINING\")\n",
    "for subject, dist in ood_test_accuracies_zero_shot.items():\n",
    "    print(f\"{subject} Test Accuracy: {100*mean(dist):.2f} $\\pm$ {100*stdev(dist):.3f}\")\n",
    "\n",
    "for subject, dist in ood_log_losses_zero_shot.items():\n",
    "    print(f\"{subject} Log-Loss: {mean(dist):.3f} $\\pm$ {stdev(dist):.3f}\")"
   ]
  },
  {
   "cell_type": "code",
   "execution_count": 47,
   "metadata": {},
   "outputs": [
    {
     "name": "stdout",
     "output_type": "stream",
     "text": [
      "Out-of-Distribution\n",
      "PRE-TRAINING\n",
      "0 Test Accuracy: 73.88 $\\pm$ 0.584\n",
      "1 Test Accuracy: 67.20 $\\pm$ 1.599\n",
      "2 Test Accuracy: 87.33 $\\pm$ 0.814\n",
      "3 Test Accuracy: 75.81 $\\pm$ 0.517\n",
      "4 Test Accuracy: 95.51 $\\pm$ 0.355\n",
      "5 Test Accuracy: 69.74 $\\pm$ 0.421\n",
      "6 Test Accuracy: 72.59 $\\pm$ 0.441\n",
      "0 Log-Loss: 0.654 $\\pm$ 0.010\n",
      "1 Log-Loss: 0.775 $\\pm$ 0.006\n",
      "2 Log-Loss: 0.523 $\\pm$ 0.015\n",
      "3 Log-Loss: 0.735 $\\pm$ 0.019\n",
      "4 Log-Loss: 0.418 $\\pm$ 0.009\n",
      "5 Log-Loss: 0.704 $\\pm$ 0.024\n",
      "6 Log-Loss: 0.849 $\\pm$ 0.014\n"
     ]
    }
   ],
   "source": [
    "print(\"Out-of-Distribution\")\n",
    "print(\"PRE-TRAINING\")\n",
    "for subject, dist in ood_test_accuracies_pre_trained.items():\n",
    "    print(f\"{subject} Test Accuracy: {100*mean(dist):.2f} $\\pm$ {100*stdev(dist):.3f}\")\n",
    "\n",
    "for subject, dist in ood_log_losses_pre_trained.items():\n",
    "    print(f\"{subject} Log-Loss: {mean(dist):.3f} $\\pm$ {stdev(dist):.3f}\")"
   ]
  },
  {
   "cell_type": "code",
   "execution_count": 34,
   "metadata": {},
   "outputs": [],
   "source": [
    "id_test_accuracies_zero_shot = {\n",
    "    '0': [],\n",
    "    '1': [],\n",
    "    '2': [],\n",
    "    '3': [],\n",
    "    '4': [],\n",
    "    '5': [],\n",
    "    '6': [],\n",
    "}\n",
    "\n",
    "id_log_losses_zero_shot = {\n",
    "    '0': [],\n",
    "    '1': [],\n",
    "    '2': [],\n",
    "    '3': [],\n",
    "    '4': [],\n",
    "    '5': [],\n",
    "    '6': [],\n",
    "}\n",
    "\n",
    "id_test_accuracies_pre_trained = {\n",
    "    '0': [],\n",
    "    '1': [],\n",
    "    '2': [],\n",
    "    '3': [],\n",
    "    '4': [],\n",
    "    '5': [],\n",
    "    '6': [],\n",
    "}\n",
    "\n",
    "id_log_losses_pre_trained = {\n",
    "    '0': [],\n",
    "    '1': [],\n",
    "    '2': [],\n",
    "    '3': [],\n",
    "    '4': [],\n",
    "    '5': [],\n",
    "    '6': [],\n",
    "}"
   ]
  },
  {
   "cell_type": "code",
   "execution_count": 35,
   "metadata": {},
   "outputs": [],
   "source": [
    "root = '/home/ss26/Projects/Smart-Tools/progress/apr5/id_performance'\n",
    "for file in os.listdir(root):\n",
    "    csv = pd.read_csv(root + '/' + file)\n",
    "    acc = csv['accuracy'].iloc[-1]\n",
    "    ll = csv['logloss'].iloc[-1]\n",
    "\n",
    "    if \"no pretraining\" in file:\n",
    "        id_test_accuracies_zero_shot[file[9]] += [acc]\n",
    "        id_log_losses_zero_shot[file[9]] += [ll]\n",
    "    \n",
    "    if \"Yaskawa pretraining\" in file:\n",
    "        id_test_accuracies_pre_trained[file[9]] += [acc]\n",
    "        id_log_losses_pre_trained[file[9]] += [ll]\n",
    "\n"
   ]
  },
  {
   "cell_type": "code",
   "execution_count": 45,
   "metadata": {},
   "outputs": [
    {
     "name": "stdout",
     "output_type": "stream",
     "text": [
      "In-Distribution\n",
      "ZERO-SHOT TRAINING\n",
      "0 Test Accuracy: 76.67 $\\pm$ 2.540\n",
      "1 Test Accuracy: 67.37 $\\pm$ 2.608\n",
      "2 Test Accuracy: 81.08 $\\pm$ 0.678\n",
      "3 Test Accuracy: 73.01 $\\pm$ 2.387\n",
      "4 Test Accuracy: 94.19 $\\pm$ 0.602\n",
      "5 Test Accuracy: 80.19 $\\pm$ 4.804\n",
      "6 Test Accuracy: 73.15 $\\pm$ 0.675\n",
      "0 Log-Loss: 0.689 $\\pm$ 0.016\n",
      "1 Log-Loss: 0.844 $\\pm$ 0.024\n",
      "2 Log-Loss: 0.583 $\\pm$ 0.012\n",
      "3 Log-Loss: 0.693 $\\pm$ 0.043\n",
      "4 Log-Loss: 0.546 $\\pm$ 0.048\n",
      "5 Log-Loss: 0.595 $\\pm$ 0.027\n",
      "6 Log-Loss: 0.920 $\\pm$ 0.020\n"
     ]
    }
   ],
   "source": [
    "print(\"In-Distribution\")\n",
    "print(\"ZERO-SHOT TRAINING\")\n",
    "for subject, dist in id_test_accuracies_zero_shot.items():\n",
    "    print(f\"{subject} Test Accuracy: {100*mean(dist):.2f} $\\pm$ {100*stdev(dist):.3f}\")\n",
    "\n",
    "for subject, dist in id_log_losses_zero_shot.items():\n",
    "    print(f\"{subject} Log-Loss: {mean(dist):.3f} $\\pm$ {stdev(dist):.3f}\")"
   ]
  },
  {
   "cell_type": "code",
   "execution_count": 44,
   "metadata": {},
   "outputs": [
    {
     "name": "stdout",
     "output_type": "stream",
     "text": [
      "In-Distribution\n",
      "PRE-TRAINING\n",
      "0 Test Accuracy: 79.50 $\\pm$ 0.782\n",
      "1 Test Accuracy: 85.13 $\\pm$ 1.147\n",
      "2 Test Accuracy: 87.24 $\\pm$ 0.301\n",
      "3 Test Accuracy: 83.04 $\\pm$ 1.139\n",
      "4 Test Accuracy: 96.36 $\\pm$ 0.156\n",
      "5 Test Accuracy: 73.81 $\\pm$ 0.951\n",
      "6 Test Accuracy: 73.27 $\\pm$ 0.406\n",
      "0 Log-Loss: 0.575 $\\pm$ 0.015\n",
      "1 Log-Loss: 0.609 $\\pm$ 0.008\n",
      "2 Log-Loss: 0.474 $\\pm$ 0.005\n",
      "3 Log-Loss: 0.568 $\\pm$ 0.026\n",
      "4 Log-Loss: 0.407 $\\pm$ 0.010\n",
      "5 Log-Loss: 0.506 $\\pm$ 0.021\n",
      "6 Log-Loss: 0.814 $\\pm$ 0.012\n"
     ]
    }
   ],
   "source": [
    "print(\"In-Distribution\")\n",
    "print(\"PRE-TRAINING\")\n",
    "for subject, dist in id_test_accuracies_pre_trained.items():\n",
    "    print(f\"{subject} Test Accuracy: {100*mean(dist):.2f} $\\pm$ {100*stdev(dist):.3f}\")\n",
    "\n",
    "for subject, dist in id_log_losses_pre_trained.items():\n",
    "    print(f\"{subject} Log-Loss: {mean(dist):.3f} $\\pm$ {stdev(dist):.3f}\")"
   ]
  }
 ],
 "metadata": {
  "kernelspec": {
   "display_name": "Python 3",
   "language": "python",
   "name": "python3"
  },
  "language_info": {
   "codemirror_mode": {
    "name": "ipython",
    "version": 3
   },
   "file_extension": ".py",
   "mimetype": "text/x-python",
   "name": "python",
   "nbconvert_exporter": "python",
   "pygments_lexer": "ipython3",
   "version": "3.8.10"
  },
  "orig_nbformat": 4
 },
 "nbformat": 4,
 "nbformat_minor": 2
}
