{
 "cells": [
  {
   "cell_type": "markdown",
   "metadata": {},
   "source": [
    "Use this to copy paste onto latex tables for results!"
   ]
  },
  {
   "cell_type": "code",
   "execution_count": null,
   "metadata": {},
   "outputs": [],
   "source": [
    "from statistics import stdev, mean\n",
    "import pandas as pd\n",
    "import os"
   ]
  },
  {
   "cell_type": "code",
   "execution_count": null,
   "metadata": {},
   "outputs": [],
   "source": [
    "ood_test_accuracies_zero_shot = {\n",
    "    '0': [],\n",
    "    '1': [],\n",
    "    '2': [],\n",
    "    '3': [],\n",
    "    '4': [],\n",
    "    '5': [],\n",
    "    '6': [],\n",
    "}\n",
    "\n",
    "ood_log_losses_zero_shot = {\n",
    "    '0': [],\n",
    "    '1': [],\n",
    "    '2': [],\n",
    "    '3': [],\n",
    "    '4': [],\n",
    "    '5': [],\n",
    "    '6': [],\n",
    "}\n",
    "\n",
    "ood_test_accuracies_pre_trained = {\n",
    "    '0': [],\n",
    "    '1': [],\n",
    "    '2': [],\n",
    "    '3': [],\n",
    "    '4': [],\n",
    "    '5': [],\n",
    "    '6': [],\n",
    "}\n",
    "\n",
    "ood_log_losses_pre_trained = {\n",
    "    '0': [],\n",
    "    '1': [],\n",
    "    '2': [],\n",
    "    '3': [],\n",
    "    '4': [],\n",
    "    '5': [],\n",
    "    '6': [],\n",
    "}\n"
   ]
  },
  {
   "cell_type": "code",
   "execution_count": null,
   "metadata": {},
   "outputs": [],
   "source": [
    "root = '/home/ss26/Projects/Smart-Tools/progress/apr5/ood_performance'\n",
    "for file in os.listdir(root):\n",
    "    csv = pd.read_csv(root + '/' + file)\n",
    "    acc = csv['accuracy'].iloc[-1]\n",
    "    ll = csv['logloss'].iloc[-1]\n",
    "\n",
    "    if \"no pretraining\" in file:\n",
    "        ood_test_accuracies_zero_shot[file[9]] += [acc]\n",
    "        ood_log_losses_zero_shot[file[9]] += [ll]\n",
    "    \n",
    "    if \"Yaskawa pretraining\" in file:\n",
    "        ood_test_accuracies_pre_trained[file[9]] += [acc]\n",
    "        ood_log_losses_pre_trained[file[9]] += [ll]\n",
    "\n"
   ]
  },
  {
   "cell_type": "code",
   "execution_count": null,
   "metadata": {},
   "outputs": [],
   "source": [
    "print(\"Out-of-Distribution\")\n",
    "print(\"ZERO-SHOT TRAINING\")\n",
    "for subject, dist in ood_test_accuracies_zero_shot.items():\n",
    "    print(f\"{subject} Test Accuracy: {100*mean(dist):.2f} $\\pm$ {100*stdev(dist):.3f}\")\n",
    "\n",
    "for subject, dist in ood_log_losses_zero_shot.items():\n",
    "    print(f\"{subject} Log-Loss: {mean(dist):.3f} $\\pm$ {stdev(dist):.3f}\")"
   ]
  },
  {
   "cell_type": "code",
   "execution_count": null,
   "metadata": {},
   "outputs": [],
   "source": [
    "print(\"Out-of-Distribution\")\n",
    "print(\"PRE-TRAINING\")\n",
    "for subject, dist in ood_test_accuracies_pre_trained.items():\n",
    "    print(f\"{subject} Test Accuracy: {100*mean(dist):.2f} $\\pm$ {100*stdev(dist):.3f}\")\n",
    "\n",
    "for subject, dist in ood_log_losses_pre_trained.items():\n",
    "    print(f\"{subject} Log-Loss: {mean(dist):.3f} $\\pm$ {stdev(dist):.3f}\")"
   ]
  },
  {
   "cell_type": "code",
   "execution_count": null,
   "metadata": {},
   "outputs": [],
   "source": [
    "id_test_accuracies_zero_shot = {\n",
    "    '0': [],\n",
    "    '1': [],\n",
    "    '2': [],\n",
    "    '3': [],\n",
    "    '4': [],\n",
    "    '5': [],\n",
    "    '6': [],\n",
    "}\n",
    "\n",
    "id_log_losses_zero_shot = {\n",
    "    '0': [],\n",
    "    '1': [],\n",
    "    '2': [],\n",
    "    '3': [],\n",
    "    '4': [],\n",
    "    '5': [],\n",
    "    '6': [],\n",
    "}\n",
    "\n",
    "id_test_accuracies_pre_trained = {\n",
    "    '0': [],\n",
    "    '1': [],\n",
    "    '2': [],\n",
    "    '3': [],\n",
    "    '4': [],\n",
    "    '5': [],\n",
    "    '6': [],\n",
    "}\n",
    "\n",
    "id_log_losses_pre_trained = {\n",
    "    '0': [],\n",
    "    '1': [],\n",
    "    '2': [],\n",
    "    '3': [],\n",
    "    '4': [],\n",
    "    '5': [],\n",
    "    '6': [],\n",
    "}"
   ]
  },
  {
   "cell_type": "code",
   "execution_count": null,
   "metadata": {},
   "outputs": [],
   "source": [
    "root = '/home/ss26/Projects/Smart-Tools/progress/apr5/id_performance'\n",
    "for file in os.listdir(root):\n",
    "    csv = pd.read_csv(root + '/' + file)\n",
    "    acc = csv['accuracy'].iloc[-1]\n",
    "    ll = csv['logloss'].iloc[-1]\n",
    "\n",
    "    if \"no pretraining\" in file:\n",
    "        id_test_accuracies_zero_shot[file[9]] += [acc]\n",
    "        id_log_losses_zero_shot[file[9]] += [ll]\n",
    "    \n",
    "    if \"Yaskawa pretraining\" in file:\n",
    "        id_test_accuracies_pre_trained[file[9]] += [acc]\n",
    "        id_log_losses_pre_trained[file[9]] += [ll]\n",
    "\n"
   ]
  },
  {
   "cell_type": "code",
   "execution_count": null,
   "metadata": {},
   "outputs": [],
   "source": [
    "print(\"In-Distribution\")\n",
    "print(\"ZERO-SHOT TRAINING\")\n",
    "for subject, dist in id_test_accuracies_zero_shot.items():\n",
    "    print(f\"{subject} Test Accuracy: {100*mean(dist):.2f} $\\pm$ {100*stdev(dist):.3f}\")\n",
    "\n",
    "for subject, dist in id_log_losses_zero_shot.items():\n",
    "    print(f\"{subject} Log-Loss: {mean(dist):.3f} $\\pm$ {stdev(dist):.3f}\")"
   ]
  },
  {
   "cell_type": "code",
   "execution_count": null,
   "metadata": {},
   "outputs": [],
   "source": [
    "print(\"In-Distribution\")\n",
    "print(\"PRE-TRAINING\")\n",
    "for subject, dist in id_test_accuracies_pre_trained.items():\n",
    "    print(f\"{subject} Test Accuracy: {100*mean(dist):.2f} $\\pm$ {100*stdev(dist):.3f}\")\n",
    "\n",
    "for subject, dist in id_log_losses_pre_trained.items():\n",
    "    print(f\"{subject} Log-Loss: {mean(dist):.3f} $\\pm$ {stdev(dist):.3f}\")"
   ]
  }
 ],
 "metadata": {
  "kernelspec": {
   "display_name": "Python 3",
   "language": "python",
   "name": "python3"
  },
  "language_info": {
   "codemirror_mode": {
    "name": "ipython",
    "version": 3
   },
   "file_extension": ".py",
   "mimetype": "text/x-python",
   "name": "python",
   "nbconvert_exporter": "python",
   "pygments_lexer": "ipython3",
   "version": "3.8.10"
  },
  "orig_nbformat": 4
 },
 "nbformat": 4,
 "nbformat_minor": 2
}
